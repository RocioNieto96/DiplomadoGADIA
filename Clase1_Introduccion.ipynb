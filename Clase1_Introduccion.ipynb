{
  "nbformat": 4,
  "nbformat_minor": 0,
  "metadata": {
    "colab": {
      "provenance": [],
      "authorship_tag": "ABX9TyMX7Q4tPhdrFZB+D5PnngLl",
      "include_colab_link": true
    },
    "kernelspec": {
      "name": "python3",
      "display_name": "Python 3"
    },
    "language_info": {
      "name": "python"
    }
  },
  "cells": [
    {
      "cell_type": "markdown",
      "metadata": {
        "id": "view-in-github",
        "colab_type": "text"
      },
      "source": [
        "<a href=\"https://colab.research.google.com/github/RocioNieto96/DiplomadoGADIA/blob/main/Clase1_Introduccion.ipynb\" target=\"_parent\"><img src=\"https://colab.research.google.com/assets/colab-badge.svg\" alt=\"Open In Colab\"/></a>"
      ]
    },
    {
      "cell_type": "markdown",
      "source": [
        "**INTRODUCCIÓN A PYTHON**\n",
        "\n",
        "DIPLOMADO EN GOBIERNO Y ANALITICA DE DATOS\n",
        "\n",
        "FUNDACIÓN UNIVERSITARIA CAFAM\n",
        "\n",
        "DOCENTE: NICOLAS MOJICA GÓMEZ\n",
        "\n",
        "ESTUDIANTE: YEIMMY ROCIO NIETO MURCIA\n",
        "\n",
        "\n",
        "\n",
        "---\n",
        "\n",
        "\n"
      ],
      "metadata": {
        "id": "0eBj54gKqHcC"
      }
    },
    {
      "cell_type": "markdown",
      "source": [
        "## 1. Comentarios en los códigos\n",
        "\n",
        "Para documentar códigos en Python existen diferentes formas de hacer comentarios, esto nos permite documentar nuestras secuencias de comandos para su análisis y/o posterior modificación."
      ],
      "metadata": {
        "id": "kivDzdutrqsw"
      }
    },
    {
      "cell_type": "code",
      "execution_count": 16,
      "metadata": {
        "colab": {
          "base_uri": "https://localhost:8080/"
        },
        "id": "q8x8Cwx2owsq",
        "outputId": "69b75789-e9ae-4760-9cf1-585fe16ac9d7"
      },
      "outputs": [
        {
          "output_type": "stream",
          "name": "stdout",
          "text": [
            "Hola mundo\n"
          ]
        }
      ],
      "source": [
        "#Este comentario es de una sola línea\n",
        "#Python es un programa sensible a las minusculas y mayusculas\n",
        "print(\"Hola mundo\")"
      ]
    },
    {
      "cell_type": "code",
      "source": [
        "'''\n",
        "Este es un comentario de multiples líneas\n",
        "puede extenderse en varias líneas\n",
        "'''\n",
        "print(\"Hola mundo\")"
      ],
      "metadata": {
        "colab": {
          "base_uri": "https://localhost:8080/"
        },
        "id": "z6vbBZpTu3Xx",
        "outputId": "2394ea51-5ec1-41be-ac4c-48c312d436f3"
      },
      "execution_count": 5,
      "outputs": [
        {
          "output_type": "stream",
          "name": "stdout",
          "text": [
            "Hola mundo\n"
          ]
        }
      ]
    },
    {
      "cell_type": "markdown",
      "source": [
        "##2. Variables\n",
        "Una variable es un elemento de un lenguaje de programación que tiene asignado un valor determinado."
      ],
      "metadata": {
        "id": "RmNrfw1XwRxg"
      }
    },
    {
      "cell_type": "code",
      "source": [
        "##Para crear una variable en Python se le debe proporcionar un nombre y se le debe asignar un valor usando un =\n",
        "var=\"Hola mundo\"\n",
        "print(var)"
      ],
      "metadata": {
        "colab": {
          "base_uri": "https://localhost:8080/"
        },
        "id": "JYZVcNbwvzmP",
        "outputId": "bcaf6fe4-c1ac-4829-92f7-5c8b5a33ee48"
      },
      "execution_count": 6,
      "outputs": [
        {
          "output_type": "stream",
          "name": "stdout",
          "text": [
            "Hola mundo\n"
          ]
        }
      ]
    },
    {
      "cell_type": "code",
      "source": [
        "##Las variables pueden cambiar a lo largo del programa en Python\n",
        "var=\"Adios mundo\"\n",
        "print(var)"
      ],
      "metadata": {
        "colab": {
          "base_uri": "https://localhost:8080/"
        },
        "id": "nNcQr321xqrY",
        "outputId": "2df808d0-6141-49c4-f3f5-0cbe6540777a"
      },
      "execution_count": 7,
      "outputs": [
        {
          "output_type": "stream",
          "name": "stdout",
          "text": [
            "Adios mundo\n"
          ]
        }
      ]
    },
    {
      "cell_type": "code",
      "source": [
        "##las variables en python son sensibles a las mayusculas y a las minusculas."
      ],
      "metadata": {
        "id": "ddupVc0ozh0-"
      },
      "execution_count": null,
      "outputs": []
    },
    {
      "cell_type": "markdown",
      "source": [
        "##3.Tipos de Datos"
      ],
      "metadata": {
        "id": "vd9iF3EW4opn"
      }
    },
    {
      "cell_type": "code",
      "source": [
        "#Tipos de datos númericos\n",
        "entero=42\n",
        "#En la mayor parte de lenguajes de programación los enteros son representados con \"INT\"\n"
      ],
      "metadata": {
        "id": "SLoL8uSJ5PmC"
      },
      "execution_count": null,
      "outputs": []
    },
    {
      "cell_type": "code",
      "source": [
        "#Tipo de dato flotante\n",
        "flotante=3.14159\n"
      ],
      "metadata": {
        "id": "-U47THQE5q1g"
      },
      "execution_count": null,
      "outputs": []
    },
    {
      "cell_type": "code",
      "source": [
        "#Conversión de los tipos de datos\n",
        "#Convertir un flotante a un Número entero\n",
        "entero=int(3.14)\n",
        "print(entero)"
      ],
      "metadata": {
        "colab": {
          "base_uri": "https://localhost:8080/"
        },
        "id": "ywaE_zMr6IN3",
        "outputId": "47c9474d-cd2f-4b64-a8ba-7ad65c2b0255"
      },
      "execution_count": 8,
      "outputs": [
        {
          "output_type": "stream",
          "name": "stdout",
          "text": [
            "3\n"
          ]
        }
      ]
    },
    {
      "cell_type": "code",
      "source": [
        "#Convertir entero a flotante\n",
        "flotante=float(5)\n",
        "print(flotante)"
      ],
      "metadata": {
        "colab": {
          "base_uri": "https://localhost:8080/"
        },
        "id": "qoUSU3-d6_ma",
        "outputId": "558e2849-16d2-462e-e0e1-3f2a12d039d4"
      },
      "execution_count": 10,
      "outputs": [
        {
          "output_type": "stream",
          "name": "stdout",
          "text": [
            "5.0\n"
          ]
        }
      ]
    },
    {
      "cell_type": "markdown",
      "source": [
        "##4. Operadores Aritméticos\n",
        "\n",
        "Los operadores matemáticos se usan para realizar operaciones cómunes como la adición, las sustracción, multiplicacion y división."
      ],
      "metadata": {
        "id": "cJiPdMYi7mww"
      }
    },
    {
      "cell_type": "code",
      "source": [
        "#Suma\n",
        "a=10\n",
        "b=5\n",
        "print(a+b)\n"
      ],
      "metadata": {
        "colab": {
          "base_uri": "https://localhost:8080/"
        },
        "id": "V8RYrOYE7J1J",
        "outputId": "df305ee4-fa6f-49dd-ad4a-0fd0c39860bb"
      },
      "execution_count": 11,
      "outputs": [
        {
          "output_type": "stream",
          "name": "stdout",
          "text": [
            "15\n"
          ]
        }
      ]
    },
    {
      "cell_type": "code",
      "source": [
        "#Resta\n",
        "c=a-b\n",
        "print(c)"
      ],
      "metadata": {
        "colab": {
          "base_uri": "https://localhost:8080/"
        },
        "id": "dox7gYx98ahY",
        "outputId": "b384f696-ca6d-4298-eb61-b62f431a1c06"
      },
      "execution_count": 12,
      "outputs": [
        {
          "output_type": "stream",
          "name": "stdout",
          "text": [
            "5\n"
          ]
        }
      ]
    },
    {
      "cell_type": "code",
      "source": [
        "#Multiplicación\n",
        "d=a*b\n",
        "print(d)"
      ],
      "metadata": {
        "colab": {
          "base_uri": "https://localhost:8080/"
        },
        "id": "-Ycplmr58hvY",
        "outputId": "28fdc51d-9462-4ec5-f64e-731bcfa7fc01"
      },
      "execution_count": 13,
      "outputs": [
        {
          "output_type": "stream",
          "name": "stdout",
          "text": [
            "50\n"
          ]
        }
      ]
    },
    {
      "cell_type": "code",
      "source": [
        "#División\n",
        "e=a/b\n",
        "print(e)"
      ],
      "metadata": {
        "colab": {
          "base_uri": "https://localhost:8080/"
        },
        "id": "gUuByFR08reg",
        "outputId": "eac2f26a-3bfe-4e3a-ea39-ab33d29c90ed"
      },
      "execution_count": 14,
      "outputs": [
        {
          "output_type": "stream",
          "name": "stdout",
          "text": [
            "2.0\n"
          ]
        }
      ]
    },
    {
      "cell_type": "code",
      "source": [
        "#División Entera\n",
        "print(a//b)"
      ],
      "metadata": {
        "colab": {
          "base_uri": "https://localhost:8080/"
        },
        "id": "a83_Mc7MA0LQ",
        "outputId": "a9818d54-bb58-4547-970e-4b6594d644a7"
      },
      "execution_count": 17,
      "outputs": [
        {
          "output_type": "stream",
          "name": "stdout",
          "text": [
            "2\n"
          ]
        }
      ]
    },
    {
      "cell_type": "code",
      "source": [
        "#Modulo, residuo de una división\n",
        "print(a%b)"
      ],
      "metadata": {
        "colab": {
          "base_uri": "https://localhost:8080/"
        },
        "id": "BT6eXro5BEQI",
        "outputId": "6e86995a-c0aa-417a-e043-1717e926271f"
      },
      "execution_count": 18,
      "outputs": [
        {
          "output_type": "stream",
          "name": "stdout",
          "text": [
            "0\n"
          ]
        }
      ]
    },
    {
      "cell_type": "code",
      "source": [
        "#Exponenciación\n",
        "print(a**b)"
      ],
      "metadata": {
        "colab": {
          "base_uri": "https://localhost:8080/"
        },
        "id": "y3jBWoH8BdkP",
        "outputId": "94c9e692-5027-4fb8-858f-781058408630"
      },
      "execution_count": 20,
      "outputs": [
        {
          "output_type": "stream",
          "name": "stdout",
          "text": [
            "100000\n"
          ]
        }
      ]
    },
    {
      "cell_type": "code",
      "source": [
        "#Asignación compuesta\n",
        "a+=b\n",
        "print(a)"
      ],
      "metadata": {
        "colab": {
          "base_uri": "https://localhost:8080/"
        },
        "id": "vAG3QOLOBg7P",
        "outputId": "a0a87f55-d42e-42f4-d31c-b8085ea4deac"
      },
      "execution_count": 21,
      "outputs": [
        {
          "output_type": "stream",
          "name": "stdout",
          "text": [
            "15\n"
          ]
        }
      ]
    },
    {
      "cell_type": "code",
      "source": [
        "#Asignación compuesta resta\n",
        "a-=b\n",
        "print(a)"
      ],
      "metadata": {
        "colab": {
          "base_uri": "https://localhost:8080/"
        },
        "id": "PEUnIxXtCZVy",
        "outputId": "e58c1317-f19e-4bc2-e4cc-19e343f57c65"
      },
      "execution_count": 22,
      "outputs": [
        {
          "output_type": "stream",
          "name": "stdout",
          "text": [
            "10\n"
          ]
        }
      ]
    },
    {
      "cell_type": "code",
      "source": [
        "#redondeo\n",
        "var4=3.1410\n",
        "print(round(var4,2))"
      ],
      "metadata": {
        "colab": {
          "base_uri": "https://localhost:8080/"
        },
        "id": "W1ob-8qSDBg4",
        "outputId": "d1a187c6-701a-4f4a-f1d2-b3f85e178691"
      },
      "execution_count": 24,
      "outputs": [
        {
          "output_type": "stream",
          "name": "stdout",
          "text": [
            "3.14\n"
          ]
        }
      ]
    },
    {
      "cell_type": "code",
      "source": [],
      "metadata": {
        "id": "oe7mN9HnEiUh"
      },
      "execution_count": null,
      "outputs": []
    },
    {
      "cell_type": "markdown",
      "source": [
        "\n",
        "\n",
        "---\n",
        "\n"
      ],
      "metadata": {
        "id": "zofgZswsEhvY"
      }
    },
    {
      "cell_type": "markdown",
      "source": [
        "**EJERCICIO OPERADORES**\n",
        "\n",
        "23 de enero\n",
        "\n",
        "\n",
        "---\n",
        "\n"
      ],
      "metadata": {
        "id": "UrBkQ7FcEU5w"
      }
    },
    {
      "cell_type": "code",
      "source": [
        "# Declarar las variables a y b con los valores 10 y 3, respectivamente\n",
        "a = 10\n",
        "b = 3\n",
        "\n",
        "# Calcular la suma de a y b\n",
        "suma = a + b\n",
        "\n",
        "# Calcular la resta de a y b\n",
        "resta = a - b\n",
        "\n",
        "# Calcular la multiplicación de a y b\n",
        "multiplicacion = a * b\n",
        "\n",
        "# Calcular la división de a entre b\n",
        "division = a / b\n",
        "\n",
        "# Calcular el módulo de a y b\n",
        "modulo = a % b\n",
        "\n",
        "# Calcular la potencia de a elevado a b\n",
        "potencia = a ** b\n",
        "\n",
        "# Calcular la división entera de a entre b\n",
        "division_entera = a // b\n",
        "\n",
        "# Imprimir los resultados\n",
        "print(\"Suma:\", suma)\n",
        "print(\"Resta:\", resta)\n",
        "print(\"Multiplicación:\", multiplicacion)\n",
        "print(\"División:\", division)\n",
        "print(\"Módulo:\", modulo)\n",
        "print(\"Potencia:\", potencia)\n",
        "print(\"División Entera:\", division_entera)"
      ],
      "metadata": {
        "colab": {
          "base_uri": "https://localhost:8080/"
        },
        "id": "loWZfTKHDg-I",
        "outputId": "db9bafc8-daa6-4ca9-dd65-165647538194"
      },
      "execution_count": 25,
      "outputs": [
        {
          "output_type": "stream",
          "name": "stdout",
          "text": [
            "Suma: 13\n",
            "Resta: 7\n",
            "Multiplicación: 30\n",
            "División: 3.3333333333333335\n",
            "Módulo: 1\n",
            "Potencia: 1000\n",
            "División Entera: 3\n"
          ]
        }
      ]
    }
  ]
}