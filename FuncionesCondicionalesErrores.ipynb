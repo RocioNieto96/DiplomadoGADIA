{
  "nbformat": 4,
  "nbformat_minor": 0,
  "metadata": {
    "colab": {
      "provenance": [],
      "authorship_tag": "ABX9TyPdGY59cQZn/m79FmDrH3rU",
      "include_colab_link": true
    },
    "kernelspec": {
      "name": "python3",
      "display_name": "Python 3"
    },
    "language_info": {
      "name": "python"
    }
  },
  "cells": [
    {
      "cell_type": "markdown",
      "metadata": {
        "id": "view-in-github",
        "colab_type": "text"
      },
      "source": [
        "<a href=\"https://colab.research.google.com/github/RocioNieto96/DiplomadoGADIA/blob/main/FuncionesCondicionalesErrores.ipynb\" target=\"_parent\"><img src=\"https://colab.research.google.com/assets/colab-badge.svg\" alt=\"Open In Colab\"/></a>"
      ]
    },
    {
      "cell_type": "markdown",
      "source": [
        "**CONDICIONALES, FUNCIONES Y MANEJO DE ERRORES**\n",
        "\n",
        "\n",
        "DIPLOMADO EN GOBIERNO Y ANALITICA DE DATOS\n",
        "\n",
        "FUNDACIÓN UNIVERSITARIA CAFAM\n",
        "\n",
        "DOCENTE: NICOLAS MOJICA GÓMEZ\n",
        "\n",
        "ESTUDIANTE: YEIMMY ROCIO NIETO MURCIA\n",
        "\n",
        "\n",
        "\n",
        "---\n"
      ],
      "metadata": {
        "id": "kDyAnAMcbGBo"
      }
    },
    {
      "cell_type": "code",
      "execution_count": 1,
      "metadata": {
        "colab": {
          "base_uri": "https://localhost:8080/"
        },
        "id": "qyY8wBMja-zE",
        "outputId": "765467f2-92d8-4d30-9ca6-40f0caa7af37"
      },
      "outputs": [
        {
          "output_type": "stream",
          "name": "stdout",
          "text": [
            "Eres mayor de edad\n"
          ]
        }
      ],
      "source": [
        "## Las condicionales en PYTHON permiten tomar decisiones en el código basadas en ciertas condiciones, son fundamentales para controlar el flujo de ejecución\n",
        "edad = 18\n",
        "#Crear una condicional que identifique si la persona es mayor o menor de edad\n",
        "if edad <18 :\n",
        "  print(\"Eres menor de edad\")\n",
        "else :\n",
        "  print(\"Eres mayor de edad\")"
      ]
    },
    {
      "cell_type": "code",
      "source": [
        "#Generar un programa que clasifique la edad introducida por el usuario entre mayor y menor de edad\n",
        "edad = int(input(\"Por favor ingresa tu edad \"))\n",
        "if edad <18 :\n",
        "  print(\"Eres menor de edad\")\n",
        "else :\n",
        "  print(\"Eres mayor de edad\")"
      ],
      "metadata": {
        "colab": {
          "base_uri": "https://localhost:8080/"
        },
        "id": "DqxiGoz7c3Cf",
        "outputId": "dde5f463-2e4b-4772-fc66-079409e39d9b"
      },
      "execution_count": 4,
      "outputs": [
        {
          "output_type": "stream",
          "name": "stdout",
          "text": [
            "Por favor ingresa tu edad 28\n",
            "Eres mayor de edad\n"
          ]
        }
      ]
    },
    {
      "cell_type": "code",
      "source": [
        "#Construya un programa que al ingresar la nota del usuario lo clasifique en:\n",
        "#No aprobado <60, >=90 Clasificación A, >=80 Clasificación B, otros Clasificación C\n",
        "nota = int(input(\"Ingrese la nota \"))\n",
        "if nota >=60:\n",
        "  if nota >=90 :\n",
        "    print(\"Clasificación A\")\n",
        "  elif nota>= 80:\n",
        "    print(\"Clasificación B\")\n",
        "  else :\n",
        "    print(\"Clasificación C\")\n",
        "else :\n",
        "  print (\"No aprobado\")"
      ],
      "metadata": {
        "colab": {
          "base_uri": "https://localhost:8080/"
        },
        "id": "hR8Md2YQeyqH",
        "outputId": "c8eaa378-d8c5-43ba-9090-9aaea06d6b8b"
      },
      "execution_count": 10,
      "outputs": [
        {
          "output_type": "stream",
          "name": "stdout",
          "text": [
            "Ingrese la nota 70\n",
            "Clasificación C\n"
          ]
        }
      ]
    },
    {
      "cell_type": "code",
      "source": [
        "\"\"\"\n",
        "Comparaciones\n",
        "Las condiciones en las sentencias condicionales suelen involucrar operadores de comparación:\n",
        "\n",
        "- == (igual a)\n",
        "- != (diferente de)\n",
        "- > (mayor que)\n",
        "- < (menor que)\n",
        "- >= (mayor o igual que)\n",
        "- <= (menor o igual que)\n",
        "\"\"\"\n",
        ""
      ],
      "metadata": {
        "id": "rLnAhXROiUxe"
      },
      "execution_count": null,
      "outputs": []
    },
    {
      "cell_type": "code",
      "source": [
        "#Escribe un programa que verifique si un número ingresado por el usuario es par o impar.\n",
        "# Solicitar al usuario que ingrese un número\n",
        "num = int(input(\"Ingresa un número: \"))\n",
        "\n",
        "# Verificar si el número es par o impar\n",
        "if num % 2 == 0:\n",
        "    print(f\"El número {num} es par.\")\n",
        "else:\n",
        "    print(f\"El número {num} es impar.\")\n"
      ],
      "metadata": {
        "colab": {
          "base_uri": "https://localhost:8080/"
        },
        "id": "8FBTJLThitFn",
        "outputId": "9248503f-77ab-4376-d97a-e1451a307dde"
      },
      "execution_count": 13,
      "outputs": [
        {
          "output_type": "stream",
          "name": "stdout",
          "text": [
            "Ingresa un número: 2\n",
            "El número 2 es par.\n"
          ]
        }
      ]
    },
    {
      "cell_type": "code",
      "source": [
        "#Crea un programa que lea dos números y determine cuál es mayor, cuál es menor o si ambos son iguales.\n",
        "# Solicitar al usuario que ingrese dos números\n",
        "num1 = float(input(\"Ingresa el primer número: \"))\n",
        "num2 = float(input(\"Ingresa el segundo número: \"))\n",
        "\n",
        "# Comparar los números e imprimir el resultado\n",
        "if num1 > num2:\n",
        "    print(f\"El número {num1} es mayor que {num2}.\")\n",
        "elif num1 < num2:\n",
        "    print(f\"El número {num2} es mayor que {num1}.\")\n",
        "else:\n",
        "    print(\"Ambos números son iguales.\")\n"
      ],
      "metadata": {
        "colab": {
          "base_uri": "https://localhost:8080/"
        },
        "id": "fir_XuCtjlxP",
        "outputId": "9c341b0d-6743-41cc-d45b-6521b47268b9"
      },
      "execution_count": 16,
      "outputs": [
        {
          "output_type": "stream",
          "name": "stdout",
          "text": [
            "Ingresa el primer número: 5\n",
            "Ingresa el segundo número: 5\n",
            "Ambos números son iguales.\n"
          ]
        }
      ]
    },
    {
      "cell_type": "markdown",
      "source": [],
      "metadata": {
        "id": "RJtQ9mb7bMGA"
      }
    },
    {
      "cell_type": "code",
      "source": [
        "\"\"\"Escribe un programa que clasifique la edad en diferentes categorías: Niño\n",
        "(0-12 años), Adolescente (13-17 años), Adulto (18-64 años) y Anciano (65 años o más).\"\"\"\n",
        "\n",
        "edad = int(input(\"Ingresa tu edad: \"))\n",
        "\n",
        "if edad < 0:\n",
        "    print(\"Edad no válida\")\n",
        "elif edad <= 12:\n",
        "    print(\"Eres un Niño.\")\n",
        "elif edad <= 17:\n",
        "    print(\"Eres un Adolescente.\")\n",
        "elif edad <= 64:\n",
        "    print(\"Eres un Adulto.\")\n",
        "else:\n",
        "    print(\"Eres un Anciano.\")\n",
        "\n"
      ],
      "metadata": {
        "colab": {
          "base_uri": "https://localhost:8080/"
        },
        "id": "C-bJ7XDBqX0o",
        "outputId": "32197c2c-ef1c-4f92-dde7-f48e430627f7"
      },
      "execution_count": 20,
      "outputs": [
        {
          "output_type": "stream",
          "name": "stdout",
          "text": [
            "Ingresa tu edad: 329\n",
            "Eres un Anciano.\n"
          ]
        }
      ]
    },
    {
      "cell_type": "markdown",
      "source": [
        "## 2. Funciones\n",
        "# bloques de código en PYTHON que se pueden reutilizar para ejecutar una tarea en espécifico."
      ],
      "metadata": {
        "id": "Lw3HFz2TtjGQ"
      }
    },
    {
      "cell_type": "code",
      "source": [
        "#Tengo la función lineal y = mx+b\n",
        "#Deseo evaluar el valor de X = 5 en la función y=4x+7\n",
        "def funcion_lineal (x) :\n",
        "    variable = x\n",
        "    y=(4*variable)+7\n",
        "    z=print(f\"El valor de y es : {y}.\")\n",
        "    return z\n",
        "funcion_lineal(5)\n"
      ],
      "metadata": {
        "colab": {
          "base_uri": "https://localhost:8080/"
        },
        "id": "WqSw-HxqqmcG",
        "outputId": "a2e11a67-1cc3-4b58-e1cf-3e34b585c50d"
      },
      "execution_count": 31,
      "outputs": [
        {
          "output_type": "stream",
          "name": "stdout",
          "text": [
            "El valor de y es : 27.\n"
          ]
        }
      ]
    },
    {
      "cell_type": "code",
      "source": [
        "#Función con 2 variables\n",
        "def suma(a,b) :\n",
        "  return a+b\n",
        "print (suma(2,2))"
      ],
      "metadata": {
        "colab": {
          "base_uri": "https://localhost:8080/"
        },
        "id": "HSQ4lC2LzSuZ",
        "outputId": "8cf231fa-db83-4fe6-9590-713c3ef0eb9b"
      },
      "execution_count": 33,
      "outputs": [
        {
          "output_type": "stream",
          "name": "stdout",
          "text": [
            "4\n"
          ]
        }
      ]
    },
    {
      "cell_type": "code",
      "source": [
        "def verificar_mayoria_edad(edad):\n",
        "    if edad < 0:\n",
        "        return \"Edad no válida\"\n",
        "    elif edad >= 18:\n",
        "        return \"Eres mayor de edad.\"\n",
        "    else:\n",
        "        return \"Eres menor de edad.\"\n",
        "\n",
        "# Ejemplo de uso\n",
        "edad = int(input(\"Ingresa tu edad: \"))\n",
        "print(verificar_mayoria_edad(edad))\n"
      ],
      "metadata": {
        "colab": {
          "base_uri": "https://localhost:8080/"
        },
        "id": "AN5azxKzz6q4",
        "outputId": "f3168e07-0855-4fd5-8b26-e83f2af1ca74"
      },
      "execution_count": 38,
      "outputs": [
        {
          "output_type": "stream",
          "name": "stdout",
          "text": [
            "Ingresa tu edad: -1\n",
            "Edad no válida\n"
          ]
        }
      ]
    },
    {
      "cell_type": "code",
      "source": [
        "def verificar_mayoria_edad(edad):\n",
        "    if edad < 0:\n",
        "        print (\"Edad no válida\")\n",
        "    elif edad >= 18:\n",
        "        print(\"Eres mayor de edad.\")\n",
        "    else:\n",
        "        print(\"Eres menor de edad.\")\n",
        "\n",
        "# Ejemplo de uso\n",
        "edad = int(input(\"Ingresa tu edad: \"))\n",
        "verificar_mayoria_edad(edad)"
      ],
      "metadata": {
        "colab": {
          "base_uri": "https://localhost:8080/"
        },
        "id": "ibl22-qq0nVB",
        "outputId": "fc99dd6d-909a-413a-8d74-31f89b36d3a4"
      },
      "execution_count": 43,
      "outputs": [
        {
          "output_type": "stream",
          "name": "stdout",
          "text": [
            "Ingresa tu edad: -2\n",
            "Edad no válida\n"
          ]
        }
      ]
    },
    {
      "cell_type": "markdown",
      "source": [],
      "metadata": {
        "id": "XbIo9YjUtupr"
      }
    }
  ]
}